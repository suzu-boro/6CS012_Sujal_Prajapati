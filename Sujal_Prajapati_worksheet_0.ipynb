{
  "nbformat": 4,
  "nbformat_minor": 0,
  "metadata": {
    "colab": {
      "provenance": []
    },
    "kernelspec": {
      "name": "python3",
      "display_name": "Python 3"
    },
    "language_info": {
      "name": "python"
    }
  },
  "cells": [
    {
      "cell_type": "markdown",
      "source": [
        "Task 1: Unit Conversion"
      ],
      "metadata": {
        "id": "_BcvLcrPuP3s"
      }
    },
    {
      "cell_type": "code",
      "execution_count": 3,
      "metadata": {
        "colab": {
          "base_uri": "https://localhost:8080/"
        },
        "id": "-91yABEVbxbd",
        "outputId": "3ed3f697-b999-4fdc-dd66-87fabc3b00d0"
      },
      "outputs": [
        {
          "output_type": "stream",
          "name": "stdout",
          "text": [
            "Unit Converter\n",
            "1. Length (m to ft, ft to m)\n",
            "2. Weight (kg to lbs, lbs to kg)\n",
            "3. Volume (L to gal, gal to L)\n",
            "Choose a category (1-3): 1\n",
            "Available conversions: m to ft, ft to m\n",
            "Enter conversion type: m to ft\n",
            "Enter the value to convert: 12\n",
            "Converted value: 39.37\n"
          ]
        }
      ],
      "source": [
        "def convert_units(category, value):\n",
        "  if category == \"m to ft\":\n",
        "    return value * 3.28084\n",
        "  elif category == \"ft to m\":\n",
        "    return value / 3.28084\n",
        "  elif category == \"kg to lbs\":\n",
        "    return value * 2.20462\n",
        "  elif category == \"lbs to kg\":\n",
        "    return value / 2.20462\n",
        "  elif category == \"L to gal\":\n",
        "    return value * 0.264172\n",
        "  elif category == \"gal to L\":\n",
        "    return value / 0.264172\n",
        "  else:\n",
        "    return None\n",
        "\n",
        "def main():\n",
        "  print(\"Unit Converter\")\n",
        "  print(\"1. Length (m to ft, ft to m)\")\n",
        "  print(\"2. Weight (kg to lbs, lbs to kg)\")\n",
        "  print(\"3. Volume (L to gal, gal to L)\")\n",
        "\n",
        "  choices = {\n",
        "      \"1\": [\"m to ft\", \"ft to m\"],\n",
        "      \"2\": [\"kg to lbs\", \"lbs to kg\"],\n",
        "      \"3\": [\"L to gal\", \"gal to L\"],\n",
        "  }\n",
        "\n",
        "  choice = input(\"Choose a category (1-3): \")\n",
        "  if choice not in choices:\n",
        "    print(\"Invalid choice. Exiting.\")\n",
        "    return\n",
        "\n",
        "  print(f\"Available conversions: {choices[choice][0]}, {choices[choice][1]}\")\n",
        "  conversion_type = input(\"Enter conversion type: \")\n",
        "\n",
        "  if conversion_type not in choices[choice]:\n",
        "    print(\"Invalid conversion type. Exiting.\")\n",
        "    return\n",
        "\n",
        "  try:\n",
        "    value = float(input(\"Enter the value to convert: \"))\n",
        "    result = convert_units(conversion_type, value)\n",
        "    if result is not None:\n",
        "      print(f\"Converted value: {result:.2f}\")\n",
        "    else:\n",
        "      print(\"Conversion not supported.\")\n",
        "  except ValueError:\n",
        "    print(\"Invalid input. Please enter a numeric value.\")\n",
        "\n",
        "if __name__ == \"__main__\":\n",
        "  main()"
      ]
    },
    {
      "cell_type": "markdown",
      "source": [
        "Task 2: Mathematical Operations"
      ],
      "metadata": {
        "id": "0a3sK9ayuU89"
      }
    },
    {
      "cell_type": "code",
      "source": [
        "def calculate_sum(numbers):\n",
        "  return sum(numbers)\n",
        "\n",
        "def calculate_average(numbers):\n",
        "  return sum(numbers) / len(numbers) if numbers else None\n",
        "\n",
        "def find_maximum(numbers):\n",
        "  return max(numbers)\n",
        "\n",
        "def find_minimum(numbers):\n",
        "  return min(numbers)\n",
        "\n",
        "def main():\n",
        "  print(\"Mathematical Operations on a List of Numbers\")\n",
        "  print(\"1. Sum\")\n",
        "  print(\"2. Average\")\n",
        "  print(\"3. Maximum\")\n",
        "  print(\"4. Minimum\")\n",
        "\n",
        "  operations = {\n",
        "      \"1\": calculate_sum,\n",
        "      \"2\": calculate_average,\n",
        "      \"3\": find_maximum,\n",
        "      \"4\": find_minimum\n",
        "  }\n",
        "\n",
        "  choice = input(\"Choose an operation (1-4): \")\n",
        "  if choice not in operations:\n",
        "    print(\"Invalid choice. Exiting.\")\n",
        "    return\n",
        "\n",
        "  try:\n",
        "    numbers = list(map(float, input(\"Enter numbers separated by spaces: \").split()))\n",
        "    if not numbers:\n",
        "      raise ValueError(\"List cannot be empty.\")\n",
        "\n",
        "    result = operations[choice](numbers)\n",
        "    print(f\"Result: {result}\")\n",
        "  except ValueError:\n",
        "    print(\"Invalid input. Please enter numeric values.\")\n",
        "\n",
        "if __name__ == \"__main__\":\n",
        "  main()"
      ],
      "metadata": {
        "colab": {
          "base_uri": "https://localhost:8080/"
        },
        "id": "HhuMrhSog_zo",
        "outputId": "8b095da8-c550-4fb8-c3dd-630b64d79464"
      },
      "execution_count": 4,
      "outputs": [
        {
          "output_type": "stream",
          "name": "stdout",
          "text": [
            "Mathematical Operations on a List of Numbers\n",
            "1. Sum\n",
            "2. Average\n",
            "3. Maximum\n",
            "4. Minimum\n",
            "Choose an operation (1-4): 3\n",
            "Enter numbers separated by spaces: 1 4 2 8 9 11 3 5\n",
            "Result: 11.0\n"
          ]
        }
      ]
    },
    {
      "cell_type": "markdown",
      "source": [
        "Task 3 : List Manipulations"
      ],
      "metadata": {
        "id": "-69opUDXr0sr"
      }
    },
    {
      "cell_type": "code",
      "source": [
        "def extract_every_other(lst):\n",
        "  return lst[::2]\n",
        "\n",
        "def get_sublist(lst, start, end):\n",
        "  return lst[start:end+1]\n",
        "\n",
        "def reverse_list(lst):\n",
        "  return lst[::-1]\n",
        "\n",
        "def remove_first_last(lst):\n",
        "  return lst[1:-1]\n",
        "\n",
        "def get_first_n(lst, n):\n",
        "  return lst[:n]\n",
        "\n",
        "def get_last_n(lst, n):\n",
        "  return lst[-n:]\n",
        "\n",
        "def reverse_skip(lst):\n",
        "  return lst[-2::-2]\n",
        "\n",
        "lst = [1, 2, 3, 4, 5, 6]\n",
        "print(\"Every other element:\", extract_every_other(lst))\n",
        "print(\"Sublist (2,4):\", get_sublist(lst, 2, 4))\n",
        "print(\"Reversed list:\", reverse_list(lst))\n",
        "print(\"Without first and last:\", remove_first_last(lst))\n",
        "print(\"First 3 elements:\", get_first_n(lst, 3))\n",
        "print(\"Last 2 elements:\", get_last_n(lst, 2))\n",
        "print(\"Reverse skip:\", reverse_skip(lst))"
      ],
      "metadata": {
        "colab": {
          "base_uri": "https://localhost:8080/"
        },
        "id": "lccjuhJUrdKS",
        "outputId": "273448eb-38c7-4247-cc85-581833aceb61"
      },
      "execution_count": 5,
      "outputs": [
        {
          "output_type": "stream",
          "name": "stdout",
          "text": [
            "Every other element: [1, 3, 5]\n",
            "Sublist (2,4): [3, 4, 5]\n",
            "Reversed list: [6, 5, 4, 3, 2, 1]\n",
            "Without first and last: [2, 3, 4, 5]\n",
            "First 3 elements: [1, 2, 3]\n",
            "Last 2 elements: [5, 6]\n",
            "Reverse skip: [5, 3, 1]\n"
          ]
        }
      ]
    },
    {
      "cell_type": "markdown",
      "source": [
        "Task 4: Nested List Operations"
      ],
      "metadata": {
        "id": "QeTgdTLcuZum"
      }
    },
    {
      "cell_type": "code",
      "source": [
        "def flatten(lst):\n",
        "  return [item for sublist in lst for item in (flatten(sublist) if isinstance(sublist, list) else [sublist])]\n",
        "\n",
        "def access_nested_element(lst, indices):\n",
        "  for index in indices:\n",
        "    lst = lst[index]\n",
        "  return lst\n",
        "\n",
        "def sum_nested(lst):\n",
        "  return sum(flatten(lst))\n",
        "\n",
        "def remove_element(lst, elem):\n",
        "  return [[x for x in sublist if x != elem] for sublist in lst]\n",
        "\n",
        "def find_max(lst):\n",
        "  return max(flatten(lst))\n",
        "\n",
        "def count_occurrences(lst, elem):\n",
        "  return flatten(lst).count(elem)\n",
        "\n",
        "def deep_flatten(lst):\n",
        "  return flatten(lst)\n",
        "\n",
        "def average_nested(lst):\n",
        "  flat = flatten(lst)\n",
        "  return sum(flat) / len(flat)\n",
        "\n",
        "nested_lst = [[1, 2], [3, [4, 5]], 6]\n",
        "print(\"Flatten list:\", flatten(nested_lst))\n",
        "print(\"Accessing [1, 2]:\", access_nested_element([[1, 2, 3], [4, 5, 6], [7, 8, 9]], [1, 2]))\n",
        "print(\"Sum of elements:\", sum_nested(nested_lst))\n",
        "print(\"Remove 2:\", remove_element([[1, 2], [3, 2], [4, 5]], 2))\n",
        "print(\"Max element:\", find_max(nested_lst))\n",
        "print(\"Count 2:\", count_occurrences([[1, 2], [2, 3], [2, 4]], 2))\n",
        "print(\"Deep Flatten:\", deep_flatten([[[1, 2], [3, 4]], [[5, 6], [7, 8]]]))\n",
        "print(\"Average:\", average_nested([[1, 2], [3, 4], [5, 6]]))"
      ],
      "metadata": {
        "colab": {
          "base_uri": "https://localhost:8080/"
        },
        "id": "2B7ErSOwuLtW",
        "outputId": "66c0d2b8-d035-441c-e049-e4df5feca753"
      },
      "execution_count": 6,
      "outputs": [
        {
          "output_type": "stream",
          "name": "stdout",
          "text": [
            "Flatten list: [1, 2, 3, 4, 5, 6]\n",
            "Accessing [1, 2]: 6\n",
            "Sum of elements: 21\n",
            "Remove 2: [[1], [3], [4, 5]]\n",
            "Max element: 6\n",
            "Count 2: 3\n",
            "Deep Flatten: [1, 2, 3, 4, 5, 6, 7, 8]\n",
            "Average: 3.5\n"
          ]
        }
      ]
    },
    {
      "cell_type": "markdown",
      "source": [
        "#NumPy Exercises\n",
        "Task 1: Creating and Manipulating NumPy Arrays"
      ],
      "metadata": {
        "id": "SeZeqra5y1ns"
      }
    },
    {
      "cell_type": "code",
      "source": [
        "import numpy as np\n",
        "\n",
        "arr_1d = np.array([1, 2, 3, 4, 5])\n",
        "arr_2d = np.array([[1, 2, 3], [4, 5, 6]])\n",
        "arr_zeros = np.zeros((2, 3))\n",
        "arr_ones = np.ones((3, 2))\n",
        "arr_random = np.random.rand(3, 3)\n",
        "\n",
        "print(\"1D Array:\", arr_1d)\n",
        "print(\"2D Array:\", arr_2d)\n",
        "print(\"Zeros Array:\", arr_zeros)\n",
        "print(\"Ones Array:\", arr_ones)\n",
        "print(\"Random Array:\", arr_random)\n",
        "\n",
        "reshaped_arr = arr_1d.reshape(5, 1)\n",
        "print(\"Reshaped 1D Array:\", reshaped_arr)\n",
        "\n",
        "print(\"Element at (0, 1):\", arr_2d[0, 1])\n",
        "print(\"First row:\", arr_2d[0])\n",
        "print(\"Last column:\", arr_2d[:, -1])"
      ],
      "metadata": {
        "colab": {
          "base_uri": "https://localhost:8080/"
        },
        "id": "pPoWjejTy0ZF",
        "outputId": "bc4bfd92-69eb-4a3a-fd82-a1137805069b"
      },
      "execution_count": 7,
      "outputs": [
        {
          "output_type": "stream",
          "name": "stdout",
          "text": [
            "1D Array: [1 2 3 4 5]\n",
            "2D Array: [[1 2 3]\n",
            " [4 5 6]]\n",
            "Zeros Array: [[0. 0. 0.]\n",
            " [0. 0. 0.]]\n",
            "Ones Array: [[1. 1.]\n",
            " [1. 1.]\n",
            " [1. 1.]]\n",
            "Random Array: [[0.77210449 0.83759288 0.05367906]\n",
            " [0.36600928 0.22044285 0.7383022 ]\n",
            " [0.98368954 0.65655544 0.22843912]]\n",
            "Reshaped 1D Array: [[1]\n",
            " [2]\n",
            " [3]\n",
            " [4]\n",
            " [5]]\n",
            "Element at (0, 1): 2\n",
            "First row: [1 2 3]\n",
            "Last column: [3 6]\n"
          ]
        }
      ]
    },
    {
      "cell_type": "markdown",
      "source": [
        "Task 2:  NumPy Array Operations"
      ],
      "metadata": {
        "id": "FtW_HEKL0fYw"
      }
    },
    {
      "cell_type": "code",
      "source": [
        "a = np.array([1, 2, 3])\n",
        "b = np.array([4, 5, 6])\n",
        "\n",
        "print(\"Addition:\", a + b)\n",
        "print(\"Subtraction:\", a - b)\n",
        "print(\"Multiplication:\", a * b)\n",
        "print(\"Division:\", a / b)\n",
        "\n",
        "print(\"Exponential:\", np.exp(a))\n",
        "print(\"Square root:\", np.sqrt(a))\n",
        "print(\"Logarithm:\", np.log(a))\n",
        "\n",
        "matrix_A = np.array([[1, 2], [3, 4]])\n",
        "matrix_B = np.array([[5, 6], [7, 8]])\n",
        "\n",
        "print(\"Dot Product:\", np.dot(matrix_A, matrix_B))\n",
        "print(\"Inverse of A:\", np.linalg.inv(matrix_A))\n",
        "print(\"Determinant of A:\", np.linalg.det(matrix_A))"
      ],
      "metadata": {
        "colab": {
          "base_uri": "https://localhost:8080/"
        },
        "id": "9JHZQJ0e0bmW",
        "outputId": "0e97a140-dc2e-4e1c-b6c4-8b12a2a33d4a"
      },
      "execution_count": 8,
      "outputs": [
        {
          "output_type": "stream",
          "name": "stdout",
          "text": [
            "Addition: [5 7 9]\n",
            "Subtraction: [-3 -3 -3]\n",
            "Multiplication: [ 4 10 18]\n",
            "Division: [0.25 0.4  0.5 ]\n",
            "Exponential: [ 2.71828183  7.3890561  20.08553692]\n",
            "Square root: [1.         1.41421356 1.73205081]\n",
            "Logarithm: [0.         0.69314718 1.09861229]\n",
            "Dot Product: [[19 22]\n",
            " [43 50]]\n",
            "Inverse of A: [[-2.   1. ]\n",
            " [ 1.5 -0.5]]\n",
            "Determinant of A: -2.0000000000000004\n"
          ]
        }
      ]
    },
    {
      "cell_type": "markdown",
      "source": [
        "Task 3: Slicing and Indexing"
      ],
      "metadata": {
        "id": "sx4MtZ3N3PTY"
      }
    },
    {
      "cell_type": "code",
      "source": [
        "arr = np.array([10, 20, 30, 40, 50])\n",
        "print(\"First three elements:\", arr[:3])\n",
        "print(\"Last two elements:\", arr[-2:])\n",
        "print(\"Every other element:\", arr[::2])\n",
        "\n",
        "arr_2d = np.array([[1, 2, 3], [4, 5, 6], [7, 8, 9]])\n",
        "print(\"First two rows:\", arr_2d[:2, :])\n",
        "print(\"Last column:\", arr_2d[:, -1])"
      ],
      "metadata": {
        "colab": {
          "base_uri": "https://localhost:8080/"
        },
        "id": "zFpXb_UU3NtU",
        "outputId": "f50cd17f-2b0d-4864-a58b-a05ab9ae6bd1"
      },
      "execution_count": 9,
      "outputs": [
        {
          "output_type": "stream",
          "name": "stdout",
          "text": [
            "First three elements: [10 20 30]\n",
            "Last two elements: [40 50]\n",
            "Every other element: [10 30 50]\n",
            "First two rows: [[1 2 3]\n",
            " [4 5 6]]\n",
            "Last column: [3 6 9]\n"
          ]
        }
      ]
    },
    {
      "cell_type": "markdown",
      "source": [
        "Task 4: Broadcasting"
      ],
      "metadata": {
        "id": "5scQi5qu44aV"
      }
    },
    {
      "cell_type": "code",
      "source": [
        "A = np.array([[1], [2], [3]])\n",
        "B = np.array([10, 20, 30])\n",
        "\n",
        "C = A + B\n",
        "print(\"Broadcasting result:\", C)"
      ],
      "metadata": {
        "colab": {
          "base_uri": "https://localhost:8080/"
        },
        "id": "TUJcTJEx4nIk",
        "outputId": "d932aa82-8238-47ac-f97c-1e5f34537096"
      },
      "execution_count": 10,
      "outputs": [
        {
          "output_type": "stream",
          "name": "stdout",
          "text": [
            "Broadcasting result: [[11 21 31]\n",
            " [12 22 32]\n",
            " [13 23 33]]\n"
          ]
        }
      ]
    },
    {
      "cell_type": "markdown",
      "source": [
        "Task 5: Error Handling in NumPy"
      ],
      "metadata": {
        "id": "U8PAYoEv5Wbr"
      }
    },
    {
      "cell_type": "code",
      "source": [
        "arr = np.array([1, 2, 3])\n",
        "try:\n",
        "  print(arr[5])\n",
        "except IndexError as e:\n",
        "  print(\"IndexError:\", e)\n",
        "\n",
        "try:\n",
        "  a = np.array([1, 2, 3])\n",
        "  b = np.array([[4, 5], [6, 7]])\n",
        "  print(a + b)\n",
        "except ValueError as e:\n",
        "  print(\"ValueError:\", e)"
      ],
      "metadata": {
        "colab": {
          "base_uri": "https://localhost:8080/"
        },
        "id": "frjb5JMD5U0l",
        "outputId": "de76b920-77d7-4e79-9ece-953b92d1a2f8"
      },
      "execution_count": 11,
      "outputs": [
        {
          "output_type": "stream",
          "name": "stdout",
          "text": [
            "IndexError: index 5 is out of bounds for axis 0 with size 3\n",
            "ValueError: operands could not be broadcast together with shapes (3,) (2,2) \n"
          ]
        }
      ]
    },
    {
      "cell_type": "code",
      "source": [
        "import numpy as np\n",
        "import time\n",
        "\n",
        "\n",
        "size = 1_000_000\n",
        "list1 = list(range(size))\n",
        "list2 = list(range(size))\n",
        "arr1 = np.array(list1)\n",
        "arr2 = np.array(list2)\n",
        "\n",
        "start = time.time()\n",
        "list_add = [x + y for x, y in zip(list1, list2)]\n",
        "print(\"Python List Addition:\", time.time() - start, \"seconds\")\n",
        "\n",
        "start = time.time()\n",
        "arr_add = arr1 + arr2\n",
        "print(\"NumPy Array Addition:\", time.time() - start, \"seconds\")\n",
        "\n",
        "start = time.time()\n",
        "list_mul = [x * y for x, y in zip(list1, list2)]\n",
        "print(\"Python List Multiplication:\", time.time() - start, \"seconds\")\n",
        "\n",
        "start = time.time()\n",
        "arr_mul = arr1 * arr2\n",
        "print(\"NumPy Array Multiplication:\", time.time() - start, \"seconds\")\n",
        "\n",
        "start = time.time()\n",
        "dot_product = sum(x * y for x, y in zip(list1, list2))\n",
        "print(\"Python List Dot Product:\", time.time() - start, \"seconds\")\n",
        "\n",
        "start = time.time()\n",
        "dot_product_np = np.dot(arr1, arr2)\n",
        "print(\"NumPy Array Dot Product:\", time.time() - start, \"seconds\")\n",
        "\n",
        "size = 1000\n",
        "matrix1 = [[i for i in range(size)] for _ in range(size)]\n",
        "matrix2 = [[i for i in range(size)] for _ in range(size)]\n",
        "matrix1_np = np.array(matrix1)\n",
        "matrix2_np = np.array(matrix2)\n",
        "\n",
        "start = time.time()\n",
        "matrix_result = [[sum(a * b for a, b in zip(row, col)) for col in zip(*matrix2)] for row in matrix1]\n",
        "print(\"Python List Matrix Multiplication:\", time.time() - start, \"seconds\")\n",
        "\n",
        "start = time.time()\n",
        "matrix_result_np = np.dot(matrix1_np, matrix2_np)\n",
        "print(\"NumPy Array Matrix Multiplication:\", time.time() - start, \"seconds\")\n"
      ],
      "metadata": {
        "id": "ui5XaX2_54Jx"
      },
      "execution_count": null,
      "outputs": []
    },
    {
      "cell_type": "code",
      "source": [],
      "metadata": {
        "id": "qKe9UXP39i5X"
      },
      "execution_count": null,
      "outputs": []
    }
  ]
}